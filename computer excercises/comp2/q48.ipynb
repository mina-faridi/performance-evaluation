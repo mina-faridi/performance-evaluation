{
 "cells": [
  {
   "cell_type": "markdown",
   "id": "1030ac1f",
   "metadata": {},
   "source": [
    "In question 48 we make the matrix E and then we get the inverse of the matrix by numpy.\n",
    "\n",
    "First we write a function p to get p(t) in everty time we need.\n",
    "for implementing p we need numpy and numpy.matmul.\n",
    "\n",
    "This function gets the fisrt state and the E matrix.\n",
    " \n",
    "A challenge was using complex numbers in the matrix.\n"
   ]
  },
  {
   "cell_type": "code",
   "execution_count": 24,
   "id": "2d2102ed",
   "metadata": {},
   "outputs": [],
   "source": [
    "import math\n",
    "import numpy as np\n",
    "import cmath"
   ]
  },
  {
   "cell_type": "code",
   "execution_count": 9,
   "id": "b8dfe2ca",
   "metadata": {},
   "outputs": [],
   "source": [
    "j = 1\n",
    "def p(t,p0, E, E_inv):\n",
    "    mat = [[1, 0, 0, 0],\n",
    "         [0, math.exp(-(1+complex(0,j)*t), 0, 0],\n",
    "         [0, 0, math.exp(-(complex(1,j))*t), 0],\n",
    "         [0, 0, 0, math.exp(-2*t)]]\n",
    "    mat = np.array(mat)\n",
    "    p = np.matmul(p0,E)\n",
    "    p = np.matmul (p, mat)\n",
    "    p = np.matmul (p, E_inv)\n",
    "    return p"
   ]
  },
  {
   "cell_type": "code",
   "execution_count": 28,
   "id": "5dbd3877",
   "metadata": {},
   "outputs": [],
   "source": [
    "def qq():\n",
    "    j=1\n",
    "    E = [[0.5, 0.5, 0.5, 0.5],\n",
    "         [0.5, complex(0,j/2), complex(0,-j/2), -0.5],\n",
    "         [0.5, -0.5, -0.5, 0.5],\n",
    "         [0.5, complex(0,-j/2), complex(0,j/2), -0.5]]\n",
    "    \n",
    "    E = np.array(E)\n",
    "    \n",
    "    A = [[0, 0, 0, 0],\n",
    "         [0, complex(-1,-j), 0, 0],\n",
    "         [0, 0, complex(-1,j), 0],\n",
    "         [0, 0, 0, -2]]\n",
    "    A = np.array(A)\n",
    "\n",
    "    E_inv = np.linalg.inv(E)\n",
    "    t = 10\n",
    "    p0 = [0,0,0,1]\n",
    "    p0 = np.array(p0)\n",
    "    \n",
    "    print (p(t,p0,E,E_inv))"
   ]
  },
  {
   "cell_type": "code",
   "execution_count": 29,
   "id": "70ee5b57",
   "metadata": {},
   "outputs": [
    {
     "name": "stdout",
     "output_type": "stream",
     "text": [
      "[0.25     +0.j 0.2499773+0.j 0.25     +0.j 0.2500227+0.j]\n"
     ]
    }
   ],
   "source": [
    "\n",
    "qq()"
   ]
  },
  {
   "cell_type": "code",
   "execution_count": null,
   "id": "cf672dc7",
   "metadata": {},
   "outputs": [],
   "source": []
  }
 ],
 "metadata": {
  "kernelspec": {
   "display_name": "Python 3 (ipykernel)",
   "language": "python",
   "name": "python3"
  },
  "language_info": {
   "codemirror_mode": {
    "name": "ipython",
    "version": 3
   },
   "file_extension": ".py",
   "mimetype": "text/x-python",
   "name": "python",
   "nbconvert_exporter": "python",
   "pygments_lexer": "ipython3",
   "version": "3.10.1"
  }
 },
 "nbformat": 4,
 "nbformat_minor": 5
}
