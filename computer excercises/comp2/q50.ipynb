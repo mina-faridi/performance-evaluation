{
 "cells": [
  {
   "cell_type": "markdown",
   "id": "a7de0e20",
   "metadata": {},
   "source": [
    "The function continous_MC  generates binary random variable  whether the chain increases by 1, decreases by 1, or remains the same and determines the occupancy time in the resulting state.\n",
    "\n",
    "the code generates next state and occupance time pairs.\n",
    "\n",
    "The challenge of this question was finding functions for generating random numbers and also exponential random number arrays. "
   ]
  },
  {
   "cell_type": "code",
   "execution_count": 1,
   "id": "a1d2876e",
   "metadata": {},
   "outputs": [],
   "source": [
    "import math\n",
    "import numpy as np\n",
    "import cmath"
   ]
  },
  {
   "cell_type": "code",
   "execution_count": null,
   "id": "b053ae69",
   "metadata": {},
   "outputs": [],
   "source": [
    "\n",
    "nmax=50\n",
    "T=0\n",
    "G=0\n",
    "initSt=0\n",
    "\n",
    "Tagger=-1\n",
    "L=T*(G(nmax-1,1)+G(nmax-1,2))\n",
    "L=0\n",
    "stseq=np.zeros((1,L))\n",
    "occTime=np.zeros((1,L))\n",
    "Q=np.zeros((1,2))\n",
    "s=np.arange(1, nmax+1, 1, dtype=int)\n",
    "# print(s)\n",
    "step=[-1,1]\n",
    "initSt=discrete_rnd\n",
    "stseq[0]=initSt\n",
    "n=1\n",
    "# occTime(n)\n"
   ]
  },
  {
   "cell_type": "code",
   "execution_count": null,
   "id": "01eb446b",
   "metadata": {},
   "outputs": [],
   "source": [
    "while Tagger<T:\n",
    "    n+=1\n",
    "    # Q[(stseq[n-1]),:]=\n",
    "    nextSt=stseq[n-1]+np.random(1,step,Q[stseq[n-1],:])\n",
    "    stseq=nextSt\n",
    "    occTime[n]= np.random.exponential(G(stseq[n],1)+G(stseq[n],2))\n",
    "    Tagger=Tagger+occTime[n]"
   ]
  }
 ],
 "metadata": {
  "kernelspec": {
   "display_name": "Python 3 (ipykernel)",
   "language": "python",
   "name": "python3"
  },
  "language_info": {
   "codemirror_mode": {
    "name": "ipython",
    "version": 3
   },
   "file_extension": ".py",
   "mimetype": "text/x-python",
   "name": "python",
   "nbconvert_exporter": "python",
   "pygments_lexer": "ipython3",
   "version": "3.10.1"
  }
 },
 "nbformat": 4,
 "nbformat_minor": 5
}
