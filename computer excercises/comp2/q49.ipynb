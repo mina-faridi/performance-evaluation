{
 "cells": [
  {
   "cell_type": "markdown",
   "id": "092877ea",
   "metadata": {},
   "source": [
    "At first we initialize the parameters.\n",
    "\n",
    "the state space is {1,...,N}\n",
    "\n",
    "function discreteMc creates random variable that determines whether the chain increases by 1, decreases by 1, or remains the same.\n",
    "\n",
    "In this question as in the question 48, we use complex numbers and matrix multipications\n",
    "and also some functions for making random numbers."
   ]
  },
  {
   "cell_type": "code",
   "execution_count": null,
   "id": "211916fd",
   "metadata": {},
   "outputs": [],
   "source": [
    "import math\n",
    "import numpy as np\n",
    "import cmath"
   ]
  },
  {
   "cell_type": "code",
   "execution_count": null,
   "id": "c2baea79",
   "metadata": {},
   "outputs": [],
   "source": [
    "def stseq:\n",
    "    discreteMc(nmax, p, IC, L)\n",
    "    stseq=zeros(1,L)\n",
    "    s=np.arange(1, nmax+1, 1, dtype=int)\n",
    "    step=[-1,0,1]\n",
    "    initSt=discrete_rnd(1, s, IC)\n",
    "    stseq[0]=initSt\n",
    "    \n",
    "    for n in range(2,L+1)\n",
    "        nextSt=stseq[n-1]+np.random(1,step,Q[stseq[n-1],:])\n",
    "        stseq[n]=nextSt"
   ]
  },
  {
   "cell_type": "code",
   "execution_count": null,
   "id": "80886fab",
   "metadata": {},
   "outputs": [],
   "source": [
    "j = 1\n",
    "\n",
    "nmax = 50\n",
    "p = np.zeros((nmax+1,3))\n",
    "a = 0.45\n",
    "b = 0.50\n",
    "p[0,:]=[0,1-a,a]\n",
    "# print(p)\n",
    "r = [(1-a)*b,a*b,(1-a)*(1-b),(1-b)*a]\n",
    "for n in range(1,nmax):\n",
    "    p[n,:]=r"
   ]
  },
  {
   "cell_type": "code",
   "execution_count": null,
   "id": "fba3974b",
   "metadata": {},
   "outputs": [],
   "source": [
    "p[nmax+1,:]=[]\n",
    "IC=np.zeros(nmax+1,1)\n",
    "IC[1,1]=1\n",
    "L=1000\n",
    "seq=discreteMc(nmax, p, IC, L)\n",
    "plot(seq-1)\n"
   ]
  }
 ],
 "metadata": {
  "kernelspec": {
   "display_name": "Python 3 (ipykernel)",
   "language": "python",
   "name": "python3"
  },
  "language_info": {
   "codemirror_mode": {
    "name": "ipython",
    "version": 3
   },
   "file_extension": ".py",
   "mimetype": "text/x-python",
   "name": "python",
   "nbconvert_exporter": "python",
   "pygments_lexer": "ipython3",
   "version": "3.10.1"
  }
 },
 "nbformat": 4,
 "nbformat_minor": 5
}
