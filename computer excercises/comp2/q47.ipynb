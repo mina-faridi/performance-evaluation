{
 "cells": [
  {
   "cell_type": "code",
   "execution_count": 1,
   "metadata": {
    "pycharm": {
     "name": "#%%\n"
    }
   },
   "outputs": [],
   "source": [
    "import math\n",
    "import numpy as np"
   ]
  },
  {
   "cell_type": "markdown",
   "metadata": {},
   "source": [
    "In question 47 we have 4 states and we calculate p by multiplying b by the inverse of the L matrix.\n",
    "\n",
    "One of the challenges of writing this code was that for multiplying the matrixes we had to convert the simple arrays to the numpy array and then multiply them by the function matmul instead of the \"\\*\" operator. "
   ]
  },
  {
   "cell_type": "code",
   "execution_count": 2,
   "metadata": {
    "pycharm": {
     "name": "#%%\n"
    }
   },
   "outputs": [
    {
     "name": "stdout",
     "output_type": "stream",
     "text": [
      "[0.25 0.25 0.25 0.25]\n"
     ]
    }
   ],
   "source": [
    "L = [[-1, 0, 0, 1],\n",
    "         [1, -1, 0, 0],\n",
    "         [0, 1, -1, 0],\n",
    "         [0, 0, 1, -1]]\n",
    "L = np.array(L)\n",
    "\n",
    "b = [1,0,0,0]\n",
    "b=np.array(b)\n",
    "L2=[[1, 0, 0, 1],\n",
    "     [1, -1, 0, 0],\n",
    "     [1, 1, -1, 0],\n",
    "     [1, 0, 1, -1]]\n",
    "L2=np.array(L2)\n",
    "\n",
    "L2_inv=np.linalg.inv(L2)\n",
    "# print(L2)\n",
    "p = np.matmul(b,L2_inv)\n",
    "print(p)"
   ]
  }
 ],
 "metadata": {
  "kernelspec": {
   "display_name": "Python 3 (ipykernel)",
   "language": "python",
   "name": "python3"
  },
  "language_info": {
   "codemirror_mode": {
    "name": "ipython",
    "version": 3
   },
   "file_extension": ".py",
   "mimetype": "text/x-python",
   "name": "python",
   "nbconvert_exporter": "python",
   "pygments_lexer": "ipython3",
   "version": "3.10.1"
  }
 },
 "nbformat": 4,
 "nbformat_minor": 1
}