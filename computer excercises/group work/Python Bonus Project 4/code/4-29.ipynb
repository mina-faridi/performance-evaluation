{
 "cells": [
  {
   "cell_type": "markdown",
   "metadata": {},
   "source": [
    "$Author:\\; Mohammad\\; Mehdi\\; Yadegarifard$"
   ]
  },
  {
   "cell_type": "markdown",
   "metadata": {},
   "source": [
    "$\\textbf{Problem 29}$:\n",
    "\n",
    "Let X be a random variable that takes the values 1, 2, and 3, with the\n",
    "following probabilities:\n",
    "$$P(X=1) = 1/2,\\quad P(X=2) = 1/4,\\quad P(X=3) = 1/4.$$\n",
    "Find the transform associated with $X$ and use it to obtain the first three moments,\n",
    "$$\n",
    "\\mathbb{E}[X] . \\mathbb{E}[X^2] , \\mathbb{E}[X^3]\n",
    "$$ \n",
    "$\\textbf{Answer}$:\n",
    "\n",
    "We know that: $ \\mathbb{E}[x] = \\sum_{i=1}^3{x_i *P_{x_i}}$ and $ \\mathbb{E}[x] = \\left.\\frac{d}{ds}M(s)\\right|_{s=0}$\n",
    "so we can write the transformation for this specific situation:\n",
    "$$e^{sX}:=x\\Rightarrow \\mathbb{E}[e^{sX}]=\\left.\\frac{d}{ds}M(s)\\right|_{s=0} = \\frac{1}{2}e^{s}+\\frac{1}{4}e^{2*s}+\\frac{1}{4}e^{3*s}$$ \n",
    "now we can calculate the first three moments:\n",
    "\n",
    "$$\n",
    "\\begin{aligned}\n",
    "\t\\mathbb{E}[X] =\\left.\\frac{d}{ds}M(s)\\right |_{s=0}&=\\frac{1}{2}+\\frac{2}{4}+\\frac{3}{4}=\\frac{7}{4}\\\\\n",
    "\t\\mathbb{E}[X^2] =\\left.\\frac{d^2}{ds^2}M(s)\\right |_{s=0}&=\\frac{1}{2}+\\frac{4}{4}+\\frac{9}{4}=\\frac{15}{4}\\\\\n",
    "\t\\mathbb{E}[X^3] =\\left.\\frac{d^3}{ds^3}M(s)\\right |_{s=0}&=\\frac{1}{2}+\\frac{8}{4}+\\frac{27}{4}=\\frac{37}{4}\n",
    "\\end{aligned}\n",
    "$$"
   ]
  },
  {
   "cell_type": "code",
   "execution_count": 1,
   "metadata": {},
   "outputs": [
    {
     "name": "stdout",
     "output_type": "stream",
     "text": [
      "E[X^1]=0.75*exp(3*s) + 0.5*exp(2*s) + 0.5*exp(s): for s=0 we have: 1.75\n",
      "E[X^2]=(2.25*exp(2*s) + 1.0*exp(s) + 0.5)*exp(s): for s=0 we have: 3.75\n",
      "E[X^3]=(6.75*exp(2*s) + 2.0*exp(s) + 0.5)*exp(s): for s=0 we have: 9.25\n"
     ]
    }
   ],
   "source": [
    "from sympy import *\n",
    "\n",
    "\n",
    "def calc_derivative(n:int) -> float:\n",
    "    \"\"\"\n",
    "    define S as a symbolic variable\n",
    "    M(s) = (1/2)*exp(s)+(1/4)*exp(2*s)+(1/4)*exp(3*s)\n",
    "    with derivative M(s) with respect to s\n",
    "    we can calculate moments of distribution\n",
    "    \"\"\"\n",
    "    s = Symbol('s')\n",
    "    func_s = (1/2)*exp(s)+(1/4)*exp(2*s)+(1/4)*exp(3*s)\n",
    "    func_s_derivative = func_s.diff(s,n)\n",
    "    return func_s_derivative,func_s_derivative.subs(s,0)\n",
    "\n",
    "\n",
    "for i in range(1,4):\n",
    "    print(\"E[X^%d]=%s: for s=0 we have: %.2f\"%(i,calc_derivative(i)[0],calc_derivative(i)[1]))"
   ]
  }
 ],
 "metadata": {
  "interpreter": {
   "hash": "e689a0eebbd6c7556e78bf4958bc98d7b00958fa0c98b09a6279ed1c1a32986c"
  },
  "kernelspec": {
   "display_name": "Python 3.8.13 ('base')",
   "language": "python",
   "name": "python3"
  },
  "language_info": {
   "codemirror_mode": {
    "name": "ipython",
    "version": 3
   },
   "file_extension": ".py",
   "mimetype": "text/x-python",
   "name": "python",
   "nbconvert_exporter": "python",
   "pygments_lexer": "ipython3",
   "version": "3.8.13"
  },
  "orig_nbformat": 4
 },
 "nbformat": 4,
 "nbformat_minor": 2
}
