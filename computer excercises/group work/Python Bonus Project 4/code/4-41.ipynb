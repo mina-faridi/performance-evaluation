{
 "cells": [
  {
   "cell_type": "markdown",
   "metadata": {},
   "source": [
    "# سوال 41"
   ]
  },
  {
   "cell_type": "code",
   "execution_count": 1,
   "metadata": {},
   "outputs": [],
   "source": [
    "from sympy import *"
   ]
  },
  {
   "cell_type": "raw",
   "metadata": {},
   "source": [
    "# در ابتدا نماد های مورد نیاز به عنوان متغیر تعریف می شوند."
   ]
  },
  {
   "cell_type": "code",
   "execution_count": 2,
   "metadata": {},
   "outputs": [],
   "source": [
    "s = symbols('s')\n",
    "e = symbols('e')\n",
    "landa = symbols('landa')"
   ]
  },
  {
   "cell_type": "raw",
   "metadata": {},
   "source": [
    "سپس متغیر تصادفی ان را به عنوان تعداد افراد وارد شده به آسانسور در نظر میگیریم و در نتیجه برای تبدیل متناظر خواهیم داشت: "
   ]
  },
  {
   "cell_type": "code",
   "execution_count": null,
   "metadata": {},
   "outputs": [],
   "source": [
    "M_N_s = e ** (landa*((e**s)-1))"
   ]
  },
  {
   "cell_type": "code",
   "execution_count": null,
   "metadata": {},
   "outputs": [],
   "source": [
    "را به عنوان تبدیل مشترک مختص به متغییر ایکس باشد به نحوی که این متغیر به شکل یکنواختی بین صفر و یک توزیع شده باشد خواهیم داشت :M_X_s اگر"
   ]
  },
  {
   "cell_type": "code",
   "execution_count": 4,
   "metadata": {},
   "outputs": [],
   "source": [
    "M_X_s = ((e**s)-1)/s"
   ]
  },
  {
   "cell_type": "raw",
   "metadata": {},
   "source": [
    "تبدیل زیر با شروع از اولین تبدیل مذکور و با جایگزین کردن تبدیل دوم به جای عبارت ای به توان اس بدست می آید:"
   ]
  },
  {
   "cell_type": "code",
   "execution_count": 6,
   "metadata": {},
   "outputs": [
    {
     "data": {
      "text/latex": [
       "$\\displaystyle e^{landa \\left(-1 + \\frac{e^{s} - 1}{s}\\right)}$"
      ],
      "text/plain": [
       "e**(landa*(-1 + (e**s - 1)/s))"
      ]
     },
     "execution_count": 6,
     "metadata": {},
     "output_type": "execute_result"
    }
   ],
   "source": [
    "M_Y_s = e ** (landa*(M_X_s-1))\n",
    "M_Y_s"
   ]
  },
  {
   "cell_type": "raw",
   "metadata": {},
   "source": [
    "در قسمت بعد سوال با توجه به مشتق تبدیل سوم نسبت به اس که با استفاده از مشتق تبدیل دوم و ضرب آن در عبارت ذیل بدست می آید خواهیم داشت:"
   ]
  },
  {
   "cell_type": "code",
   "execution_count": 7,
   "metadata": {},
   "outputs": [
    {
     "data": {
      "text/latex": [
       "$\\displaystyle e^{landa \\left(-1 + \\frac{e^{s} - 1}{s}\\right)} landa \\left(\\frac{e^{s} \\log{\\left(e \\right)}}{s} - \\frac{e^{s} - 1}{s^{2}}\\right)$"
      ],
      "text/plain": [
       "e**(landa*(-1 + (e**s - 1)/s))*landa*(e**s*log(e)/s - (e**s - 1)/s**2)"
      ]
     },
     "execution_count": 7,
     "metadata": {},
     "output_type": "execute_result"
    }
   ],
   "source": [
    "d1 = diff(M_X_s,s)\n",
    "d2 = d2 = landa * M_Y_s\n",
    "d1 * d2"
   ]
  },
  {
   "cell_type": "raw",
   "metadata": {},
   "source": [
    "با علم به اینکه مقدار ام ایکس صفر برابر یک است تابع زیر را برای ارزیابی مقدار مشتق ام ایکس تعریف میکنیم :"
   ]
  },
  {
   "cell_type": "code",
   "execution_count": 8,
   "metadata": {},
   "outputs": [],
   "source": [
    "def eval_MX(num):\n",
    "    if num == 0 :\n",
    "        return 1\n",
    "    else :\n",
    "        return d1.subs(s,num)"
   ]
  },
  {
   "cell_type": "raw",
   "metadata": {},
   "source": [
    "بنابراین برای مقدار امید متغیر ایگرگ خواهیم داشت :"
   ]
  },
  {
   "cell_type": "code",
   "execution_count": 10,
   "metadata": {},
   "outputs": [
    {
     "data": {
      "text/latex": [
       "$\\displaystyle landa$"
      ],
      "text/plain": [
       "landa"
      ]
     },
     "execution_count": 10,
     "metadata": {},
     "output_type": "execute_result"
    }
   ],
   "source": [
    "E_Y = eval_MX(0) * (landa * (e**(landa*(eval_MX(0)-1))))\n",
    "E_Y"
   ]
  },
  {
   "cell_type": "code",
   "execution_count": null,
   "metadata": {},
   "outputs": [],
   "source": []
  }
 ],
 "metadata": {
  "kernelspec": {
   "display_name": "Python 3",
   "language": "python",
   "name": "python3"
  },
  "language_info": {
   "codemirror_mode": {
    "name": "ipython",
    "version": 3
   },
   "file_extension": ".py",
   "mimetype": "text/x-python",
   "name": "python",
   "nbconvert_exporter": "python",
   "pygments_lexer": "ipython3",
   "version": "3.7.1"
  }
 },
 "nbformat": 4,
 "nbformat_minor": 2
}
