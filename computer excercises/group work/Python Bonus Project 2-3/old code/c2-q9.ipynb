{
 "cells": [
  {
   "cell_type": "code",
   "execution_count": 2,
   "metadata": {},
   "outputs": [],
   "source": [
    "import numpy as np\n",
    "import matplotlib.pyplot as plt"
   ]
  },
  {
   "cell_type": "code",
   "execution_count": 3,
   "metadata": {},
   "outputs": [],
   "source": [
    "def facto (n):\n",
    "    fact = 1\n",
    "    for i in range(1,n+1):\n",
    "        fact = fact * i\n",
    "    return fact"
   ]
  },
  {
   "cell_type": "code",
   "execution_count": 4,
   "metadata": {},
   "outputs": [],
   "source": [
    "def combo(n, k):\n",
    "    temp1 = facto(n)\n",
    "    temp2 = facto(k)\n",
    "    temp3 = facto(n-k)\n",
    "    cmb = temp1/(temp2*temp3)\n",
    "    return cmb"
   ]
  },
  {
   "cell_type": "code",
   "execution_count": 5,
   "metadata": {},
   "outputs": [],
   "source": [
    "def q9(n,k,p):\n",
    "    temp1 = combo(n,k)*pow(p,k)*pow(1-p,n-k)\n",
    "    temp2 = combo(n,k-1)*pow(p,k-1)*pow(1-p,n-k+1)\n",
    "    return temp1/temp2"
   ]
  },
  {
   "cell_type": "code",
   "execution_count": 6,
   "metadata": {},
   "outputs": [
    {
     "name": "stdout",
     "output_type": "stream",
     "text": [
      "[10. 11. 12. 13. 14. 15. 16. 17. 18. 19. 20. 21. 22. 23. 24. 25. 26. 27.\n",
      " 28. 29. 30. 31. 32. 33. 34. 35. 36. 37. 38. 39. 40. 41. 42. 43. 44. 45.\n",
      " 46. 47. 48. 49. 50. 51. 52. 53. 54. 55. 56. 57. 58. 59.]\n"
     ]
    }
   ],
   "source": [
    "n = 99\n",
    "p = 0.4\n",
    "k = np.linspace(10,60,num=50,endpoint=False)\n",
    "print(k)"
   ]
  },
  {
   "cell_type": "code",
   "execution_count": 7,
   "metadata": {},
   "outputs": [
    {
     "data": {
      "text/plain": [
       "[6.0,\n",
       " 5.393939393939394,\n",
       " 4.888888888888888,\n",
       " 4.4615384615384635,\n",
       " 4.095238095238096,\n",
       " 3.7777777777777777,\n",
       " 3.5,\n",
       " 3.254901960784314,\n",
       " 3.037037037037037,\n",
       " 2.842105263157896,\n",
       " 2.6666666666666665,\n",
       " 2.5079365079365084,\n",
       " 2.3636363636363633,\n",
       " 2.2318840579710146,\n",
       " 2.1111111111111116,\n",
       " 2.0000000000000004,\n",
       " 1.8974358974358978,\n",
       " 1.802469135802469,\n",
       " 1.7142857142857144,\n",
       " 1.6321839080459772,\n",
       " 1.5555555555555558,\n",
       " 1.4838709677419353,\n",
       " 1.416666666666667,\n",
       " 1.3535353535353534,\n",
       " 1.2941176470588238,\n",
       " 1.238095238095238,\n",
       " 1.1851851851851856,\n",
       " 1.135135135135135,\n",
       " 1.087719298245614,\n",
       " 1.0427350427350428,\n",
       " 1.0,\n",
       " 0.9593495934959352,\n",
       " 0.9206349206349206,\n",
       " 0.8837209302325584,\n",
       " 0.8484848484848483,\n",
       " 0.8148148148148149,\n",
       " 0.7826086956521741,\n",
       " 0.7517730496453903,\n",
       " 0.7222222222222222,\n",
       " 0.6938775510204083,\n",
       " 0.6666666666666667,\n",
       " 0.6405228758169934,\n",
       " 0.6153846153846155,\n",
       " 0.5911949685534591,\n",
       " 0.5679012345679013,\n",
       " 0.5454545454545454,\n",
       " 0.523809523809524,\n",
       " 0.5029239766081871,\n",
       " 0.4827586206896553,\n",
       " 0.4632768361581922]"
      ]
     },
     "execution_count": 7,
     "metadata": {},
     "output_type": "execute_result"
    }
   ],
   "source": [
    "ans = []\n",
    "for ks in k:\n",
    "    ans.append(q9(n,int(ks),p))\n",
    "    \n",
    "ans"
   ]
  },
  {
   "cell_type": "code",
   "execution_count": 8,
   "metadata": {},
   "outputs": [
    {
     "data": {
      "text/plain": [
       "Text(0, 0.5, 'values of K')"
      ]
     },
     "execution_count": 8,
     "metadata": {},
     "output_type": "execute_result"
    },
    {
     "data": {
      "image/png": "[encoded data removed]",
      "text/plain": [
       "<Figure size 432x288 with 1 Axes>"
      ]
     },
     "metadata": {
      "needs_background": "light"
     },
     "output_type": "display_data"
    }
   ],
   "source": [
    "plt.plot(ans,k)\n",
    "plt.hlines(y = (n+1)*p, xmin = 0, xmax = 6, color ='r', linestyle='--')\n",
    "plt.vlines(x = 1, ymin=0, ymax = 60, color = 'y', linestyle = '--')\n",
    "plt.text(0, ((n+1)*p)+0.5, '(n+1)*p', ha ='left', va ='bottom')\n",
    "plt.text(1, 0.8, 'Ratio = 1',rotation ='vertical', ha ='right', va ='bottom')\n",
    "plt.xlabel(\"Ratio calculated with different values of K\")\n",
    "plt.ylabel(\"values of K\")"
   ]
  },
  {
   "cell_type": "code",
   "execution_count": null,
   "metadata": {},
   "outputs": [],
   "source": []
  }
 ],
 "metadata": {
  "kernelspec": {
   "display_name": "Python 3",
   "language": "python",
   "name": "python3"
  },
  "language_info": {
   "codemirror_mode": {
    "name": "ipython",
    "version": 3
   },
   "file_extension": ".py",
   "mimetype": "text/x-python",
   "name": "python",
   "nbconvert_exporter": "python",
   "pygments_lexer": "ipython3",
   "version": "3.7.1"
  }
 },
 "nbformat": 4,
 "nbformat_minor": 2
}
